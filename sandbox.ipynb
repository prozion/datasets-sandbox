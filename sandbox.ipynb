{
 "cells": [
  {
   "cell_type": "code",
   "execution_count": 1,
   "id": "554318bf-8f1a-4cff-b92e-c26c6afb06af",
   "metadata": {},
   "outputs": [
    {
     "name": "stderr",
     "output_type": "stream",
     "text": [
      "\u001b[32m\u001b[1m    Updating\u001b[22m\u001b[39m registry at `~/.julia/registries/General.toml`\n",
      "\u001b[32m\u001b[1m   Resolving\u001b[22m\u001b[39m package versions...\n",
      "\u001b[32m\u001b[1m  No Changes\u001b[22m\u001b[39m to `~/.julia/environments/v1.8/Project.toml`\n",
      "\u001b[32m\u001b[1m  No Changes\u001b[22m\u001b[39m to `~/.julia/environments/v1.8/Manifest.toml`\n"
     ]
    }
   ],
   "source": [
    "using Pkg\n",
    "Pkg.add(\"Plots\")\n",
    "\n",
    "using Plots"
   ]
  },
  {
   "cell_type": "code",
   "execution_count": 8,
   "id": "a4a28e21-8443-4555-b645-67c7416f20ae",
   "metadata": {},
   "outputs": [
    {
     "data": {
      "text/plain": [
       "75-element Vector{SubString{String}}:\n",
       " \"h2_creatures url:https://mightandmagic.fandom.com/wiki/Heroes_II_creatures\"\n",
       " \"; Barbarians\"\n",
       " \"Goblin race:Barbarian level:1 a\" ⋯ 30 bytes ⋯ \"x:2 v:average growth:10 gold:40\"\n",
       " \"Orc race:Barbarian level:2 a:3 \" ⋯ 37 bytes ⋯ \"y_slow growth:8 gold:140 ammo:8\"\n",
       " \"Orc_Chief race:Barbarian level:\" ⋯ 47 bytes ⋯ \":slow growth:8 gold:175 ammo:16\"\n",
       " \"Wolf race:Barbarian level:3 a:6\" ⋯ 31 bytes ⋯ \"5 v:very_fast growth:5 gold:200\"\n",
       " \"Ogre race:Barbarian level:4 a:9\" ⋯ 31 bytes ⋯ \"6 v:very_slow growth:4 gold:300\"\n",
       " \"Ogre_Lord race:Barbarian level:\" ⋯ 34 bytes ⋯ \"x:7 v:average growth:4 gold:500\"\n",
       " \"Troll race:Barbarian level:5 a:\" ⋯ 38 bytes ⋯ \"verage growth:8 gold:600 ammo:8\"\n",
       " \"War_Troll race:Barbarian level:\" ⋯ 40 bytes ⋯ \":fast growth:3 gold:700 ammo:16\"\n",
       " \"Cyclops race:Barbarian level:6 \" ⋯ 42 bytes ⋯ \"ast growth:2 gold:750 crystal:1\"\n",
       " \"; Knights\"\n",
       " \"Peasant race:Knight level:1 a:1\" ⋯ 30 bytes ⋯ \"1 v:very_slow growth:12 gold:20\"\n",
       " ⋮\n",
       " \"Titan race:Wizard level:6\"\n",
       " \"; Neutrals\"\n",
       " \"Rogue race:Neutral a:6 def:1 hp:4 dmg-min:1 dmg-max:2 v:fast gold:50\"\n",
       " \"Nomad race:Neutral \"\n",
       " \"Ghost race:Neutral \"\n",
       " \"Genie race:Neutral \"\n",
       " \"Medusa race:Neutral \"\n",
       " \"Air_Elemental race:Neutral \"\n",
       " \"Earth_Elemental race:Neutral \"\n",
       " \"Fire_Elemental race:Neutral \"\n",
       " \"Water_Elemental race:Neutral \"\n",
       " \"\""
      ]
     },
     "execution_count": 8,
     "metadata": {},
     "output_type": "execute_result"
    }
   ],
   "source": [
    "content = read(open(\"h2.tree\"), String)\n",
    "lines = split(content, r\"\\n\\t*\")"
   ]
  }
 ],
 "metadata": {
  "kernelspec": {
   "display_name": "Julia 1.8.1",
   "language": "julia",
   "name": "julia-1.8"
  },
  "language_info": {
   "file_extension": ".jl",
   "mimetype": "application/julia",
   "name": "julia",
   "version": "1.8.1"
  }
 },
 "nbformat": 4,
 "nbformat_minor": 5
}
